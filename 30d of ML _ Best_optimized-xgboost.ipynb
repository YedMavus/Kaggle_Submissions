{
 "cells": [
  {
   "cell_type": "code",
   "execution_count": 1,
   "id": "7fdf1449",
   "metadata": {
    "execution": {
     "iopub.execute_input": "2021-08-25T16:50:01.888145Z",
     "iopub.status.busy": "2021-08-25T16:50:01.887022Z",
     "iopub.status.idle": "2021-08-25T16:50:02.926021Z",
     "shell.execute_reply": "2021-08-25T16:50:02.925042Z",
     "shell.execute_reply.started": "2021-08-25T15:24:45.36424Z"
    },
    "papermill": {
     "duration": 1.055714,
     "end_time": "2021-08-25T16:50:02.926181",
     "exception": false,
     "start_time": "2021-08-25T16:50:01.870467",
     "status": "completed"
    },
    "tags": []
   },
   "outputs": [],
   "source": [
    "import pandas as pd\n",
    "import numpy as np\n",
    "from sklearn import preprocessing\n",
    "from sklearn.model_selection import train_test_split\n",
    "from sklearn.ensemble import RandomForestRegressor\n",
    "from sklearn.metrics import mean_squared_error\n",
    "from xgboost import XGBRegressor"
   ]
  },
  {
   "cell_type": "code",
   "execution_count": 2,
   "id": "d6889cd4",
   "metadata": {
    "execution": {
     "iopub.execute_input": "2021-08-25T16:50:02.940473Z",
     "iopub.status.busy": "2021-08-25T16:50:02.939814Z",
     "iopub.status.idle": "2021-08-25T16:50:06.764075Z",
     "shell.execute_reply": "2021-08-25T16:50:06.763568Z",
     "shell.execute_reply.started": "2021-08-25T15:24:45.382728Z"
    },
    "papermill": {
     "duration": 3.833033,
     "end_time": "2021-08-25T16:50:06.764218",
     "exception": false,
     "start_time": "2021-08-25T16:50:02.931185",
     "status": "completed"
    },
    "tags": []
   },
   "outputs": [],
   "source": [
    "df = pd.read_csv(\"../input/30days-folds/train_folds.csv\")\n",
    "df_test = pd.read_csv(\"../input/30-days-of-ml/test.csv\")\n",
    "sample_submission = pd.read_csv(\"../input/30-days-of-ml/sample_submission.csv\")"
   ]
  },
  {
   "cell_type": "code",
   "execution_count": 3,
   "id": "0b080dab",
   "metadata": {
    "execution": {
     "iopub.execute_input": "2021-08-25T16:50:06.817197Z",
     "iopub.status.busy": "2021-08-25T16:50:06.815501Z",
     "iopub.status.idle": "2021-08-25T16:50:06.818026Z",
     "shell.execute_reply": "2021-08-25T16:50:06.818482Z",
     "shell.execute_reply.started": "2021-08-25T15:24:47.225096Z"
    },
    "papermill": {
     "duration": 0.04949,
     "end_time": "2021-08-25T16:50:06.818632",
     "exception": false,
     "start_time": "2021-08-25T16:50:06.769142",
     "status": "completed"
    },
    "tags": []
   },
   "outputs": [],
   "source": [
    "useful_features = [c for c in df.columns if c not in (\"id\", \"target\", \"kfold\")]\n",
    "object_cols = [col for col in useful_features if col.startswith(\"cat\")]\n",
    "df_test = df_test[useful_features]"
   ]
  },
  {
   "cell_type": "code",
   "execution_count": 4,
   "id": "1d2f6ac3",
   "metadata": {
    "execution": {
     "iopub.execute_input": "2021-08-25T16:50:06.839381Z",
     "iopub.status.busy": "2021-08-25T16:50:06.838728Z",
     "iopub.status.idle": "2021-08-25T17:12:03.762993Z",
     "shell.execute_reply": "2021-08-25T17:12:03.764042Z",
     "shell.execute_reply.started": "2021-08-25T15:24:47.251598Z"
    },
    "papermill": {
     "duration": 1316.940795,
     "end_time": "2021-08-25T17:12:03.764295",
     "exception": false,
     "start_time": "2021-08-25T16:50:06.823500",
     "status": "completed"
    },
    "tags": []
   },
   "outputs": [
    {
     "name": "stdout",
     "output_type": "stream",
     "text": [
      "[0]\tvalidation_0-rmse:7.17498\n",
      "[1000]\tvalidation_0-rmse:0.71798\n",
      "[2000]\tvalidation_0-rmse:0.71615\n",
      "[2477]\tvalidation_0-rmse:0.71600\n",
      "0 0.7159740802497071\n",
      "[0]\tvalidation_0-rmse:7.17167\n",
      "[1000]\tvalidation_0-rmse:0.71772\n",
      "[2000]\tvalidation_0-rmse:0.71613\n",
      "[2477]\tvalidation_0-rmse:0.71607\n",
      "1 0.7160248054973178\n",
      "[0]\tvalidation_0-rmse:7.16935\n",
      "[1000]\tvalidation_0-rmse:0.71959\n",
      "[2000]\tvalidation_0-rmse:0.71812\n",
      "[2477]\tvalidation_0-rmse:0.71792\n",
      "2 0.7179237532590247\n",
      "[0]\tvalidation_0-rmse:7.17164\n",
      "[1000]\tvalidation_0-rmse:0.71958\n",
      "[2000]\tvalidation_0-rmse:0.71790\n",
      "[2477]\tvalidation_0-rmse:0.71775\n",
      "3 0.7177223969690327\n",
      "[0]\tvalidation_0-rmse:7.17711\n",
      "[1000]\tvalidation_0-rmse:0.71816\n",
      "[2000]\tvalidation_0-rmse:0.71640\n",
      "[2477]\tvalidation_0-rmse:0.71625\n",
      "4 0.7162366816192544\n",
      "0.7167763435188672 0.0008615378063845942\n"
     ]
    }
   ],
   "source": [
    "final_predictions = []\n",
    "scores = []\n",
    "for fold in range(5):\n",
    "    xtrain =  df[df.kfold != fold].reset_index(drop=True)\n",
    "    xvalid = df[df.kfold == fold].reset_index(drop=True)\n",
    "    xtest = df_test.copy()\n",
    "\n",
    "    ytrain = xtrain.target\n",
    "    yvalid = xvalid.target\n",
    "    \n",
    "    xtrain = xtrain[useful_features]\n",
    "    xvalid = xvalid[useful_features]\n",
    "    \n",
    "    ordinal_encoder = preprocessing.OrdinalEncoder()\n",
    "    xtrain[object_cols] = ordinal_encoder.fit_transform(xtrain[object_cols])\n",
    "    xvalid[object_cols] = ordinal_encoder.transform(xvalid[object_cols])\n",
    "    xtest[object_cols] = ordinal_encoder.transform(xtest[object_cols])\n",
    "    \n",
    "    params = {'learning_rate': 0.07853392035787837, 'reg_lambda': 1.7549293092194938e-05, \n",
    "              'reg_alpha': 14.68267919457715, 'subsample': 0.8031450486786944, 'colsample_bytree': 0.170759104940733, 'max_depth': 3}\n",
    "    \n",
    "    model = XGBRegressor(\n",
    "        random_state=0, \n",
    "        #tree_method='gpu_hist',\n",
    "        #gpu_id=0,\n",
    "        #predictor=\"gpu_predictor\",\n",
    "        n_estimators=2478,\n",
    "        **params\n",
    "    )\n",
    "    model.fit(xtrain, ytrain, early_stopping_rounds=300, eval_set=[(xvalid, yvalid)], verbose=1000)\n",
    "    preds_valid = model.predict(xvalid)\n",
    "    test_preds = model.predict(xtest)\n",
    "    final_predictions.append(test_preds)\n",
    "    rmse = mean_squared_error(yvalid, preds_valid, squared=False)\n",
    "    print(fold, rmse)\n",
    "    scores.append(rmse)\n",
    "\n",
    "print(np.mean(scores), np.std(scores))"
   ]
  },
  {
   "cell_type": "code",
   "execution_count": 5,
   "id": "dbf14d49",
   "metadata": {
    "execution": {
     "iopub.execute_input": "2021-08-25T17:12:03.793339Z",
     "iopub.status.busy": "2021-08-25T17:12:03.792543Z",
     "iopub.status.idle": "2021-08-25T17:12:04.296154Z",
     "shell.execute_reply": "2021-08-25T17:12:04.295603Z"
    },
    "papermill": {
     "duration": 0.519566,
     "end_time": "2021-08-25T17:12:04.296284",
     "exception": false,
     "start_time": "2021-08-25T17:12:03.776718",
     "status": "completed"
    },
    "tags": []
   },
   "outputs": [],
   "source": [
    "preds = np.mean(np.column_stack(final_predictions), axis=1)\n",
    "sample_submission.target = preds\n",
    "sample_submission.to_csv(\"submission.csv\", index=False)"
   ]
  }
 ],
 "metadata": {
  "kernelspec": {
   "display_name": "Python 3",
   "language": "python",
   "name": "python3"
  },
  "language_info": {
   "codemirror_mode": {
    "name": "ipython",
    "version": 3
   },
   "file_extension": ".py",
   "mimetype": "text/x-python",
   "name": "python",
   "nbconvert_exporter": "python",
   "pygments_lexer": "ipython3",
   "version": "3.7.10"
  },
  "papermill": {
   "default_parameters": {},
   "duration": 1331.00563,
   "end_time": "2021-08-25T17:12:06.384699",
   "environment_variables": {},
   "exception": null,
   "input_path": "__notebook__.ipynb",
   "output_path": "__notebook__.ipynb",
   "parameters": {},
   "start_time": "2021-08-25T16:49:55.379069",
   "version": "2.3.3"
  }
 },
 "nbformat": 4,
 "nbformat_minor": 5
}
